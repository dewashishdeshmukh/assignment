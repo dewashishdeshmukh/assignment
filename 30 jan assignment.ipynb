{
 "cells": [
  {
   "cell_type": "markdown",
   "id": "083de672-86ae-45f8-b2d0-160738e5ec34",
   "metadata": {
    "tags": []
   },
   "source": [
    "# Ans 1:"
   ]
  },
  {
   "cell_type": "code",
   "execution_count": null,
   "id": "ba147ded-4b21-4fa8-b58b-20289c92abf3",
   "metadata": {},
   "outputs": [],
   "source": [
    "#k is for while loop\n",
    "k=1\n",
    "# percentage of user\n",
    "while(k):\n",
    "    percentage=float(input(\"Enter your percentage : \"))\n",
    "    if percentage<=0 or percentage>=100:\n",
    "        print(\"please enter valid percentage\")\n",
    "    else:\n",
    "        print(\"Your percernage is\",percentage)\n",
    "        k=0\n",
    "# checking for grades\n",
    "if percentage>90:\n",
    "    print(\"And your Grade is 'A'\")\n",
    "elif percentage>80 and percentage<=90:\n",
    "    print(\"And your Grade is 'B'\")\n",
    "elif percentage>=60 and percentage<=80:\n",
    "    print(\"And your Grade is 'C'\")\n",
    "else:\n",
    "    print(\"And your Grade is 'D'\")\n",
    "        "
   ]
  },
  {
   "cell_type": "markdown",
   "id": "3a1857c0-adef-4e46-bd17-4bb57301eec1",
   "metadata": {},
   "source": [
    "# Ans 2 :"
   ]
  },
  {
   "cell_type": "code",
   "execution_count": null,
   "id": "392c1567-5512-488d-ae85-04c4746a8757",
   "metadata": {},
   "outputs": [],
   "source": [
    "n=1\n",
    "# cost of bike\n",
    "while(n):\n",
    "    cost=int(input(\"Enter Cost of Bike : \"))\n",
    "    if cost<=0 :\n",
    "        print(\"please enter valid price\")\n",
    "    else:\n",
    "        n=0\n",
    "# checking for grades\n",
    "if cost>100000:\n",
    "    print(\"your Tax is 15%\")\n",
    "elif cost>50000 and cost<=100000:\n",
    "    print(\"your Tax is 10%\")\n",
    "elif cost<=50000:\n",
    "    print(\"your Tax is 5%\")"
   ]
  },
  {
   "cell_type": "markdown",
   "id": "fb7c1691-5db7-4978-9117-968a578e9c00",
   "metadata": {},
   "source": [
    "# Ans 3:"
   ]
  },
  {
   "cell_type": "code",
   "execution_count": null,
   "id": "1ddd44c0-ce87-4196-93f9-207551f60fba",
   "metadata": {},
   "outputs": [],
   "source": [
    "city = input(\"Enter Your City Name : \")\n",
    "if city == \"Delhi\" or city == \"delhi\" or city == \"DELHI\"    :\n",
    "    print(\"The monuments of your city is 'RED FORT'\")\n",
    "if city == \"Agra\" or city == \"agra\" or city == \"AGRA\"    :\n",
    "    print(\"The monuments of your city is 'TAJ MAHAL'\")\n",
    "if city == \"Jaipur\" or city == \"jaipur\" or city == \"JAIPUR\"    :\n",
    "    print(\"The monuments of your city is 'JAL MAHAL'\")\n",
    "    \n",
    "else :\n",
    "    print(\"No Monuments found\")"
   ]
  },
  {
   "cell_type": "markdown",
   "id": "d55d3f22-5a6c-4b79-833c-7ae8fc0953d8",
   "metadata": {},
   "source": [
    "# Ans 4 :"
   ]
  },
  {
   "cell_type": "code",
   "execution_count": null,
   "id": "b9f52e59-bc52-42cb-9941-0f3e2930623b",
   "metadata": {},
   "outputs": [],
   "source": [
    "count=0\n",
    "num=int(input(\"Enter a Number : \"))\n",
    "while(num>=10):\n",
    "    num=num/3\n",
    "    count+=1\n",
    "print(\"number is divided by '3' before it is less than or equal to '10' is = \",count)"
   ]
  },
  {
   "cell_type": "markdown",
   "id": "dd81e121-48cf-469f-b19d-10f42db9016c",
   "metadata": {},
   "source": [
    "# Ans 5 :"
   ]
  },
  {
   "cell_type": "markdown",
   "id": "ebf2509e-932b-4119-8c05-3db741bcf7f0",
   "metadata": {},
   "source": [
    "While loop is an \"indefinite itteration\" that is used when a loop repeats unkown number of times and end when some condition is met and it is also useful in scenarios where the break condition doesn't logically depend on any kind of sequence. "
   ]
  },
  {
   "cell_type": "code",
   "execution_count": 1,
   "id": "e4c0b241-75b4-471f-8deb-841fa5e08a73",
   "metadata": {},
   "outputs": [
    {
     "name": "stdout",
     "output_type": "stream",
     "text": [
      "Current Letter : p\n",
      "Current Letter : w\n"
     ]
    }
   ],
   "source": [
    "# break the loop as soon it sees 'i' or 's'\n",
    "i = 0\n",
    "a = 'pwskills'\n",
    "  \n",
    "while i < len(a):\n",
    "    if a[i] == 'i' or a[i] == 's':\n",
    "        i += 1\n",
    "        break\n",
    "          \n",
    "    print('Current Letter :', a[i])\n",
    "    i += 1"
   ]
  },
  {
   "cell_type": "markdown",
   "id": "4ed7c3ff-3dad-479c-b5fb-90e7459037f9",
   "metadata": {},
   "source": [
    "# Ans 6"
   ]
  },
  {
   "cell_type": "code",
   "execution_count": null,
   "id": "07bbef69-9347-40a0-8a42-9eb38f657b38",
   "metadata": {},
   "outputs": [],
   "source": [
    "i=1\n",
    "rows = int(input(\"Enter no of rows : \"))\n",
    "while(i<=rows):\n",
    "    j=1\n",
    "    # nested loop\n",
    "    while(j<=i):\n",
    "        # display number\n",
    "        print(j, end=' ')\n",
    "        j+=1\n",
    "    i+=1\n",
    "    # new line after each row\n",
    "    print('')"
   ]
  },
  {
   "cell_type": "code",
   "execution_count": null,
   "id": "f992dd62-ea3f-44e6-9ca9-22f5216902bf",
   "metadata": {},
   "outputs": [],
   "source": [
    "n = int(input('Enter number of rows : '))\n",
    " \n",
    "i = 1\n",
    "while i <= n :\n",
    "    j = 1\n",
    "    while j <= i:\n",
    "        print(\"*\", end = \" \")\n",
    "        j += 1\n",
    "    print()\n",
    "    i += 1"
   ]
  },
  {
   "cell_type": "markdown",
   "id": "4f2ba97a-085a-42a8-8ee3-4243ec023fb9",
   "metadata": {},
   "source": [
    "# Ans 7 :"
   ]
  },
  {
   "cell_type": "code",
   "execution_count": 2,
   "id": "6ab6f58a-aa19-4a63-85ce-5e3f31fc80c0",
   "metadata": {},
   "outputs": [
    {
     "name": "stdout",
     "output_type": "stream",
     "text": [
      "10\n",
      "9\n",
      "8\n",
      "7\n",
      "6\n",
      "5\n",
      "4\n",
      "3\n",
      "2\n",
      "1\n"
     ]
    }
   ],
   "source": [
    "a=[1,2,3,4,5,6,7,8,9,10]\n",
    "l=len(a)\n",
    "while(l):\n",
    "    print(l)\n",
    "    l-=1"
   ]
  },
  {
   "cell_type": "markdown",
   "id": "a9dba027-9c9d-43d7-b261-b915c11b3175",
   "metadata": {},
   "source": [
    "# Ans 8 :"
   ]
  },
  {
   "cell_type": "markdown",
   "id": "dc022024-51ab-4eba-8645-74a550ecf41f",
   "metadata": {},
   "source": [
    "sys.version\n"
   ]
  },
  {
   "cell_type": "markdown",
   "id": "834fe86e-ed12-4d95-bb0c-e6adc765a14a",
   "metadata": {},
   "source": [
    "# Ans 9 :"
   ]
  },
  {
   "cell_type": "markdown",
   "id": "55a41bfb-3758-4df4-ad77-e93df7de1c6a",
   "metadata": {},
   "source": [
    "Lambda"
   ]
  },
  {
   "cell_type": "markdown",
   "id": "97cfa4a6-6043-4106-86be-32b5f37c980c",
   "metadata": {},
   "source": [
    "# Ans 10 :"
   ]
  },
  {
   "cell_type": "markdown",
   "id": "4bc46c81-0f43-4d7b-9c91-136f1d021b9b",
   "metadata": {},
   "source": [
    "“Preferred installer program”"
   ]
  },
  {
   "cell_type": "markdown",
   "id": "847c128b-68fa-40f5-836f-213e865112c0",
   "metadata": {},
   "source": [
    "# Ans 11 :"
   ]
  },
  {
   "cell_type": "markdown",
   "id": "4050125a-dccf-4b4f-a291-f0bb35a654ca",
   "metadata": {},
   "source": [
    "print() , input() , type() , min() , max()"
   ]
  },
  {
   "cell_type": "markdown",
   "id": "87c928c8-d837-4a5a-b3aa-ab5643d9f77d",
   "metadata": {},
   "source": [
    "# Ans 12 :"
   ]
  },
  {
   "cell_type": "markdown",
   "id": "01d019ff-724c-4f2e-9dd9-d84b9719af21",
   "metadata": {},
   "source": [
    "Max possible length of identifier is \"79\""
   ]
  },
  {
   "cell_type": "markdown",
   "id": "83973d12-ca59-473c-b339-b162dc9e531a",
   "metadata": {},
   "source": [
    "# Ans 13 :"
   ]
  },
  {
   "cell_type": "markdown",
   "id": "329b2857-455f-420a-a20d-db439b9e3244",
   "metadata": {},
   "source": [
    "A. Easy to learn  \n",
    "B. Lots of Python libraries  \n",
    "C. Open Source  \n",
    "D. Versatile & Efficient  \n"
   ]
  },
  {
   "cell_type": "markdown",
   "id": "b1352ccb-b49a-4ba4-a0c3-e954dd596e8a",
   "metadata": {},
   "source": [
    "# Ans 14 :"
   ]
  },
  {
   "cell_type": "markdown",
   "id": "6a3ec0c0-bd36-4855-8011-30c01a759b11",
   "metadata": {},
   "source": [
    "Memory managed in python by its \"Python private Heap Space\"."
   ]
  },
  {
   "cell_type": "markdown",
   "id": "dfb90dfb-0c4d-45eb-8ed4-414234732171",
   "metadata": {},
   "source": [
    "# Ans 15"
   ]
  },
  {
   "cell_type": "markdown",
   "id": "53b46a10-06f1-4000-aa5a-35fd8f79cca2",
   "metadata": {},
   "source": [
    "1. Right-clicking This PC and going to Properties.\n",
    "2. Clicking on the Advanced system settings in the menu on the left.\n",
    "3. Clicking on the Environment Variables button on the bottom right.\n",
    "4. In the System variables section, selecting the Path variable and  clicking on Edit.The next screen will \n",
    "   show all the directories that are currently a part of the \"PATH\" variable.\n",
    "5.Clicking on New and entering Python’s install directory.\n"
   ]
  },
  {
   "cell_type": "markdown",
   "id": "7798e1ea-d08f-40b2-9606-6baacdfc3420",
   "metadata": {},
   "source": [
    "# Ans 16 :"
   ]
  },
  {
   "cell_type": "markdown",
   "id": "31b0beeb-49bc-41af-aeaf-b122be59e763",
   "metadata": {},
   "source": [
    "Yes Indentation required in python."
   ]
  }
 ],
 "metadata": {
  "kernelspec": {
   "display_name": "Python 3 (ipykernel)",
   "language": "python",
   "name": "python3"
  },
  "language_info": {
   "codemirror_mode": {
    "name": "ipython",
    "version": 3
   },
   "file_extension": ".py",
   "mimetype": "text/x-python",
   "name": "python",
   "nbconvert_exporter": "python",
   "pygments_lexer": "ipython3",
   "version": "3.10.8"
  }
 },
 "nbformat": 4,
 "nbformat_minor": 5
}
